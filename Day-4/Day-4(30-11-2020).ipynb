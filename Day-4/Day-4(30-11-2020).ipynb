{
 "cells": [
  {
   "cell_type": "markdown",
   "metadata": {},
   "source": [
    "- Data Processing\n",
    "- Introduction to Scikit learn\n",
    "- Scaling Technique\n",
    "- https://github.com/APSSDC-Data-Analysis/DA-TOT/blob/main/Day%204/Advertisement.csv"
   ]
  },
  {
   "cell_type": "code",
   "execution_count": 3,
   "metadata": {
    "scrolled": true
   },
   "outputs": [
    {
     "data": {
      "text/html": [
       "<div>\n",
       "<style scoped>\n",
       "    .dataframe tbody tr th:only-of-type {\n",
       "        vertical-align: middle;\n",
       "    }\n",
       "\n",
       "    .dataframe tbody tr th {\n",
       "        vertical-align: top;\n",
       "    }\n",
       "\n",
       "    .dataframe thead th {\n",
       "        text-align: right;\n",
       "    }\n",
       "</style>\n",
       "<table border=\"1\" class=\"dataframe\">\n",
       "  <thead>\n",
       "    <tr style=\"text-align: right;\">\n",
       "      <th></th>\n",
       "      <th>Unnamed: 0</th>\n",
       "      <th>TV</th>\n",
       "      <th>radio</th>\n",
       "      <th>newspaper</th>\n",
       "      <th>sales</th>\n",
       "    </tr>\n",
       "  </thead>\n",
       "  <tbody>\n",
       "    <tr>\n",
       "      <th>0</th>\n",
       "      <td>1</td>\n",
       "      <td>230.1</td>\n",
       "      <td>37.8</td>\n",
       "      <td>69.2</td>\n",
       "      <td>22.1</td>\n",
       "    </tr>\n",
       "    <tr>\n",
       "      <th>1</th>\n",
       "      <td>2</td>\n",
       "      <td>44.5</td>\n",
       "      <td>39.3</td>\n",
       "      <td>45.1</td>\n",
       "      <td>10.4</td>\n",
       "    </tr>\n",
       "    <tr>\n",
       "      <th>2</th>\n",
       "      <td>3</td>\n",
       "      <td>17.2</td>\n",
       "      <td>45.9</td>\n",
       "      <td>69.3</td>\n",
       "      <td>9.3</td>\n",
       "    </tr>\n",
       "    <tr>\n",
       "      <th>3</th>\n",
       "      <td>4</td>\n",
       "      <td>151.5</td>\n",
       "      <td>41.3</td>\n",
       "      <td>58.5</td>\n",
       "      <td>18.5</td>\n",
       "    </tr>\n",
       "    <tr>\n",
       "      <th>4</th>\n",
       "      <td>5</td>\n",
       "      <td>180.8</td>\n",
       "      <td>10.8</td>\n",
       "      <td>58.4</td>\n",
       "      <td>12.9</td>\n",
       "    </tr>\n",
       "  </tbody>\n",
       "</table>\n",
       "</div>"
      ],
      "text/plain": [
       "   Unnamed: 0     TV  radio  newspaper  sales\n",
       "0           1  230.1   37.8       69.2   22.1\n",
       "1           2   44.5   39.3       45.1   10.4\n",
       "2           3   17.2   45.9       69.3    9.3\n",
       "3           4  151.5   41.3       58.5   18.5\n",
       "4           5  180.8   10.8       58.4   12.9"
      ]
     },
     "execution_count": 3,
     "metadata": {},
     "output_type": "execute_result"
    }
   ],
   "source": [
    "import pandas as pd\n",
    "df=pd.read_csv('Adv.csv')\n",
    "df.head()"
   ]
  },
  {
   "cell_type": "code",
   "execution_count": 9,
   "metadata": {
    "collapsed": true
   },
   "outputs": [
    {
     "ename": "KeyError",
     "evalue": "\"['Unnamed: 0'] not found in axis\"",
     "output_type": "error",
     "traceback": [
      "\u001b[1;31m---------------------------------------------------------------------------\u001b[0m",
      "\u001b[1;31mKeyError\u001b[0m                                  Traceback (most recent call last)",
      "\u001b[1;32m<ipython-input-9-6de3b927936a>\u001b[0m in \u001b[0;36m<module>\u001b[1;34m\u001b[0m\n\u001b[1;32m----> 1\u001b[1;33m \u001b[0mdf\u001b[0m\u001b[1;33m.\u001b[0m\u001b[0mdrop\u001b[0m\u001b[1;33m(\u001b[0m\u001b[1;33m[\u001b[0m\u001b[1;34m'Unnamed: 0'\u001b[0m\u001b[1;33m]\u001b[0m\u001b[1;33m,\u001b[0m\u001b[0maxis\u001b[0m\u001b[1;33m=\u001b[0m\u001b[1;36m1\u001b[0m\u001b[1;33m,\u001b[0m\u001b[0minplace\u001b[0m\u001b[1;33m=\u001b[0m\u001b[1;32mTrue\u001b[0m\u001b[1;33m)\u001b[0m\u001b[1;33m\u001b[0m\u001b[1;33m\u001b[0m\u001b[0m\n\u001b[0m",
      "\u001b[1;32mc:\\users\\lenovo_pc\\appdata\\local\\programs\\python\\python36\\lib\\site-packages\\pandas\\core\\frame.py\u001b[0m in \u001b[0;36mdrop\u001b[1;34m(self, labels, axis, index, columns, level, inplace, errors)\u001b[0m\n\u001b[0;32m   3992\u001b[0m             \u001b[0mlevel\u001b[0m\u001b[1;33m=\u001b[0m\u001b[0mlevel\u001b[0m\u001b[1;33m,\u001b[0m\u001b[1;33m\u001b[0m\u001b[1;33m\u001b[0m\u001b[0m\n\u001b[0;32m   3993\u001b[0m             \u001b[0minplace\u001b[0m\u001b[1;33m=\u001b[0m\u001b[0minplace\u001b[0m\u001b[1;33m,\u001b[0m\u001b[1;33m\u001b[0m\u001b[1;33m\u001b[0m\u001b[0m\n\u001b[1;32m-> 3994\u001b[1;33m             \u001b[0merrors\u001b[0m\u001b[1;33m=\u001b[0m\u001b[0merrors\u001b[0m\u001b[1;33m,\u001b[0m\u001b[1;33m\u001b[0m\u001b[1;33m\u001b[0m\u001b[0m\n\u001b[0m\u001b[0;32m   3995\u001b[0m         )\n\u001b[0;32m   3996\u001b[0m \u001b[1;33m\u001b[0m\u001b[0m\n",
      "\u001b[1;32mc:\\users\\lenovo_pc\\appdata\\local\\programs\\python\\python36\\lib\\site-packages\\pandas\\core\\generic.py\u001b[0m in \u001b[0;36mdrop\u001b[1;34m(self, labels, axis, index, columns, level, inplace, errors)\u001b[0m\n\u001b[0;32m   3933\u001b[0m         \u001b[1;32mfor\u001b[0m \u001b[0maxis\u001b[0m\u001b[1;33m,\u001b[0m \u001b[0mlabels\u001b[0m \u001b[1;32min\u001b[0m \u001b[0maxes\u001b[0m\u001b[1;33m.\u001b[0m\u001b[0mitems\u001b[0m\u001b[1;33m(\u001b[0m\u001b[1;33m)\u001b[0m\u001b[1;33m:\u001b[0m\u001b[1;33m\u001b[0m\u001b[1;33m\u001b[0m\u001b[0m\n\u001b[0;32m   3934\u001b[0m             \u001b[1;32mif\u001b[0m \u001b[0mlabels\u001b[0m \u001b[1;32mis\u001b[0m \u001b[1;32mnot\u001b[0m \u001b[1;32mNone\u001b[0m\u001b[1;33m:\u001b[0m\u001b[1;33m\u001b[0m\u001b[1;33m\u001b[0m\u001b[0m\n\u001b[1;32m-> 3935\u001b[1;33m                 \u001b[0mobj\u001b[0m \u001b[1;33m=\u001b[0m \u001b[0mobj\u001b[0m\u001b[1;33m.\u001b[0m\u001b[0m_drop_axis\u001b[0m\u001b[1;33m(\u001b[0m\u001b[0mlabels\u001b[0m\u001b[1;33m,\u001b[0m \u001b[0maxis\u001b[0m\u001b[1;33m,\u001b[0m \u001b[0mlevel\u001b[0m\u001b[1;33m=\u001b[0m\u001b[0mlevel\u001b[0m\u001b[1;33m,\u001b[0m \u001b[0merrors\u001b[0m\u001b[1;33m=\u001b[0m\u001b[0merrors\u001b[0m\u001b[1;33m)\u001b[0m\u001b[1;33m\u001b[0m\u001b[1;33m\u001b[0m\u001b[0m\n\u001b[0m\u001b[0;32m   3936\u001b[0m \u001b[1;33m\u001b[0m\u001b[0m\n\u001b[0;32m   3937\u001b[0m         \u001b[1;32mif\u001b[0m \u001b[0minplace\u001b[0m\u001b[1;33m:\u001b[0m\u001b[1;33m\u001b[0m\u001b[1;33m\u001b[0m\u001b[0m\n",
      "\u001b[1;32mc:\\users\\lenovo_pc\\appdata\\local\\programs\\python\\python36\\lib\\site-packages\\pandas\\core\\generic.py\u001b[0m in \u001b[0;36m_drop_axis\u001b[1;34m(self, labels, axis, level, errors)\u001b[0m\n\u001b[0;32m   3967\u001b[0m                 \u001b[0mnew_axis\u001b[0m \u001b[1;33m=\u001b[0m \u001b[0maxis\u001b[0m\u001b[1;33m.\u001b[0m\u001b[0mdrop\u001b[0m\u001b[1;33m(\u001b[0m\u001b[0mlabels\u001b[0m\u001b[1;33m,\u001b[0m \u001b[0mlevel\u001b[0m\u001b[1;33m=\u001b[0m\u001b[0mlevel\u001b[0m\u001b[1;33m,\u001b[0m \u001b[0merrors\u001b[0m\u001b[1;33m=\u001b[0m\u001b[0merrors\u001b[0m\u001b[1;33m)\u001b[0m\u001b[1;33m\u001b[0m\u001b[1;33m\u001b[0m\u001b[0m\n\u001b[0;32m   3968\u001b[0m             \u001b[1;32melse\u001b[0m\u001b[1;33m:\u001b[0m\u001b[1;33m\u001b[0m\u001b[1;33m\u001b[0m\u001b[0m\n\u001b[1;32m-> 3969\u001b[1;33m                 \u001b[0mnew_axis\u001b[0m \u001b[1;33m=\u001b[0m \u001b[0maxis\u001b[0m\u001b[1;33m.\u001b[0m\u001b[0mdrop\u001b[0m\u001b[1;33m(\u001b[0m\u001b[0mlabels\u001b[0m\u001b[1;33m,\u001b[0m \u001b[0merrors\u001b[0m\u001b[1;33m=\u001b[0m\u001b[0merrors\u001b[0m\u001b[1;33m)\u001b[0m\u001b[1;33m\u001b[0m\u001b[1;33m\u001b[0m\u001b[0m\n\u001b[0m\u001b[0;32m   3970\u001b[0m             \u001b[0mresult\u001b[0m \u001b[1;33m=\u001b[0m \u001b[0mself\u001b[0m\u001b[1;33m.\u001b[0m\u001b[0mreindex\u001b[0m\u001b[1;33m(\u001b[0m\u001b[1;33m**\u001b[0m\u001b[1;33m{\u001b[0m\u001b[0maxis_name\u001b[0m\u001b[1;33m:\u001b[0m \u001b[0mnew_axis\u001b[0m\u001b[1;33m}\u001b[0m\u001b[1;33m)\u001b[0m\u001b[1;33m\u001b[0m\u001b[1;33m\u001b[0m\u001b[0m\n\u001b[0;32m   3971\u001b[0m \u001b[1;33m\u001b[0m\u001b[0m\n",
      "\u001b[1;32mc:\\users\\lenovo_pc\\appdata\\local\\programs\\python\\python36\\lib\\site-packages\\pandas\\core\\indexes\\base.py\u001b[0m in \u001b[0;36mdrop\u001b[1;34m(self, labels, errors)\u001b[0m\n\u001b[0;32m   5016\u001b[0m         \u001b[1;32mif\u001b[0m \u001b[0mmask\u001b[0m\u001b[1;33m.\u001b[0m\u001b[0many\u001b[0m\u001b[1;33m(\u001b[0m\u001b[1;33m)\u001b[0m\u001b[1;33m:\u001b[0m\u001b[1;33m\u001b[0m\u001b[1;33m\u001b[0m\u001b[0m\n\u001b[0;32m   5017\u001b[0m             \u001b[1;32mif\u001b[0m \u001b[0merrors\u001b[0m \u001b[1;33m!=\u001b[0m \u001b[1;34m\"ignore\"\u001b[0m\u001b[1;33m:\u001b[0m\u001b[1;33m\u001b[0m\u001b[1;33m\u001b[0m\u001b[0m\n\u001b[1;32m-> 5018\u001b[1;33m                 \u001b[1;32mraise\u001b[0m \u001b[0mKeyError\u001b[0m\u001b[1;33m(\u001b[0m\u001b[1;34mf\"{labels[mask]} not found in axis\"\u001b[0m\u001b[1;33m)\u001b[0m\u001b[1;33m\u001b[0m\u001b[1;33m\u001b[0m\u001b[0m\n\u001b[0m\u001b[0;32m   5019\u001b[0m             \u001b[0mindexer\u001b[0m \u001b[1;33m=\u001b[0m \u001b[0mindexer\u001b[0m\u001b[1;33m[\u001b[0m\u001b[1;33m~\u001b[0m\u001b[0mmask\u001b[0m\u001b[1;33m]\u001b[0m\u001b[1;33m\u001b[0m\u001b[1;33m\u001b[0m\u001b[0m\n\u001b[0;32m   5020\u001b[0m         \u001b[1;32mreturn\u001b[0m \u001b[0mself\u001b[0m\u001b[1;33m.\u001b[0m\u001b[0mdelete\u001b[0m\u001b[1;33m(\u001b[0m\u001b[0mindexer\u001b[0m\u001b[1;33m)\u001b[0m\u001b[1;33m\u001b[0m\u001b[1;33m\u001b[0m\u001b[0m\n",
      "\u001b[1;31mKeyError\u001b[0m: \"['Unnamed: 0'] not found in axis\""
     ]
    }
   ],
   "source": [
    "df.drop(['Unnamed: 0'],axis=1,inplace=True) #Deleteing coulum in dataset"
   ]
  },
  {
   "cell_type": "code",
   "execution_count": 10,
   "metadata": {},
   "outputs": [
    {
     "data": {
      "text/plain": [
       "(200, 4)"
      ]
     },
     "execution_count": 10,
     "metadata": {},
     "output_type": "execute_result"
    }
   ],
   "source": [
    "df.shape"
   ]
  },
  {
   "cell_type": "code",
   "execution_count": 11,
   "metadata": {
    "collapsed": true
   },
   "outputs": [
    {
     "data": {
      "text/html": [
       "<div>\n",
       "<style scoped>\n",
       "    .dataframe tbody tr th:only-of-type {\n",
       "        vertical-align: middle;\n",
       "    }\n",
       "\n",
       "    .dataframe tbody tr th {\n",
       "        vertical-align: top;\n",
       "    }\n",
       "\n",
       "    .dataframe thead th {\n",
       "        text-align: right;\n",
       "    }\n",
       "</style>\n",
       "<table border=\"1\" class=\"dataframe\">\n",
       "  <thead>\n",
       "    <tr style=\"text-align: right;\">\n",
       "      <th></th>\n",
       "      <th>TV</th>\n",
       "      <th>radio</th>\n",
       "      <th>newspaper</th>\n",
       "      <th>sales</th>\n",
       "    </tr>\n",
       "  </thead>\n",
       "  <tbody>\n",
       "    <tr>\n",
       "      <th>0</th>\n",
       "      <td>230.1</td>\n",
       "      <td>37.8</td>\n",
       "      <td>69.2</td>\n",
       "      <td>22.1</td>\n",
       "    </tr>\n",
       "    <tr>\n",
       "      <th>1</th>\n",
       "      <td>44.5</td>\n",
       "      <td>39.3</td>\n",
       "      <td>45.1</td>\n",
       "      <td>10.4</td>\n",
       "    </tr>\n",
       "    <tr>\n",
       "      <th>2</th>\n",
       "      <td>17.2</td>\n",
       "      <td>45.9</td>\n",
       "      <td>69.3</td>\n",
       "      <td>9.3</td>\n",
       "    </tr>\n",
       "    <tr>\n",
       "      <th>3</th>\n",
       "      <td>151.5</td>\n",
       "      <td>41.3</td>\n",
       "      <td>58.5</td>\n",
       "      <td>18.5</td>\n",
       "    </tr>\n",
       "    <tr>\n",
       "      <th>4</th>\n",
       "      <td>180.8</td>\n",
       "      <td>10.8</td>\n",
       "      <td>58.4</td>\n",
       "      <td>12.9</td>\n",
       "    </tr>\n",
       "  </tbody>\n",
       "</table>\n",
       "</div>"
      ],
      "text/plain": [
       "      TV  radio  newspaper  sales\n",
       "0  230.1   37.8       69.2   22.1\n",
       "1   44.5   39.3       45.1   10.4\n",
       "2   17.2   45.9       69.3    9.3\n",
       "3  151.5   41.3       58.5   18.5\n",
       "4  180.8   10.8       58.4   12.9"
      ]
     },
     "execution_count": 11,
     "metadata": {},
     "output_type": "execute_result"
    }
   ],
   "source": [
    "df.head()"
   ]
  },
  {
   "cell_type": "code",
   "execution_count": 12,
   "metadata": {},
   "outputs": [
    {
     "data": {
      "text/plain": [
       "TV           0\n",
       "radio        0\n",
       "newspaper    0\n",
       "sales        0\n",
       "dtype: int64"
      ]
     },
     "execution_count": 12,
     "metadata": {},
     "output_type": "execute_result"
    }
   ],
   "source": [
    "df.isnull().sum()"
   ]
  },
  {
   "cell_type": "markdown",
   "metadata": {},
   "source": [
    "### Outliers\n",
    "- Outliers are diff from other data points in datasets which affects traing process of a learning algorithms\n",
    "- For Handling outlier,Appling scaling techniques using scikit learn"
   ]
  },
  {
   "cell_type": "code",
   "execution_count": 13,
   "metadata": {},
   "outputs": [],
   "source": [
    "import matplotlib.pyplot as plt"
   ]
  },
  {
   "cell_type": "code",
   "execution_count": 14,
   "metadata": {
    "collapsed": true
   },
   "outputs": [
    {
     "data": {
      "text/plain": [
       "<matplotlib.collections.PathCollection at 0x2d1f6dbec18>"
      ]
     },
     "execution_count": 14,
     "metadata": {},
     "output_type": "execute_result"
    },
    {
     "data": {
      "image/png": "[encoded data removed]",
      "text/plain": [
       "<Figure size 432x288 with 1 Axes>"
      ]
     },
     "metadata": {
      "needs_background": "light"
     },
     "output_type": "display_data"
    }
   ],
   "source": [
    "x=[1,1.2,2,2,8,12]\n",
    "y=[2,2.2,5,1,1,15]\n",
    "plt.scatter(x,y)\n"
   ]
  },
  {
   "cell_type": "code",
   "execution_count": 15,
   "metadata": {},
   "outputs": [
    {
     "data": {
      "text/plain": [
       "<AxesSubplot:>"
      ]
     },
     "execution_count": 15,
     "metadata": {},
     "output_type": "execute_result"
    },
    {
     "data": {
      "image/png": "[encoded data removed]",
      "text/plain": [
       "<Figure size 432x288 with 1 Axes>"
      ]
     },
     "metadata": {
      "needs_background": "light"
     },
     "output_type": "display_data"
    }
   ],
   "source": [
    "df.plot(kind='box')"
   ]
  },
  {
   "cell_type": "markdown",
   "metadata": {},
   "source": [
    "### BOXpLOT\n",
    "- min\n",
    "- Q1(25%)\n",
    "- Q2(50%)\n",
    "- Q3(75%)\n",
    "- max"
   ]
  },
  {
   "cell_type": "code",
   "execution_count": 17,
   "metadata": {},
   "outputs": [
    {
     "data": {
      "text/html": [
       "<div>\n",
       "<style scoped>\n",
       "    .dataframe tbody tr th:only-of-type {\n",
       "        vertical-align: middle;\n",
       "    }\n",
       "\n",
       "    .dataframe tbody tr th {\n",
       "        vertical-align: top;\n",
       "    }\n",
       "\n",
       "    .dataframe thead th {\n",
       "        text-align: right;\n",
       "    }\n",
       "</style>\n",
       "<table border=\"1\" class=\"dataframe\">\n",
       "  <thead>\n",
       "    <tr style=\"text-align: right;\">\n",
       "      <th></th>\n",
       "      <th>TV</th>\n",
       "      <th>radio</th>\n",
       "      <th>newspaper</th>\n",
       "      <th>sales</th>\n",
       "    </tr>\n",
       "  </thead>\n",
       "  <tbody>\n",
       "    <tr>\n",
       "      <th>count</th>\n",
       "      <td>200.000000</td>\n",
       "      <td>200.000000</td>\n",
       "      <td>200.000000</td>\n",
       "      <td>200.000000</td>\n",
       "    </tr>\n",
       "    <tr>\n",
       "      <th>mean</th>\n",
       "      <td>147.042500</td>\n",
       "      <td>23.264000</td>\n",
       "      <td>30.554000</td>\n",
       "      <td>14.022500</td>\n",
       "    </tr>\n",
       "    <tr>\n",
       "      <th>std</th>\n",
       "      <td>85.854236</td>\n",
       "      <td>14.846809</td>\n",
       "      <td>21.778621</td>\n",
       "      <td>5.217457</td>\n",
       "    </tr>\n",
       "    <tr>\n",
       "      <th>min</th>\n",
       "      <td>0.700000</td>\n",
       "      <td>0.000000</td>\n",
       "      <td>0.300000</td>\n",
       "      <td>1.600000</td>\n",
       "    </tr>\n",
       "    <tr>\n",
       "      <th>25%</th>\n",
       "      <td>74.375000</td>\n",
       "      <td>9.975000</td>\n",
       "      <td>12.750000</td>\n",
       "      <td>10.375000</td>\n",
       "    </tr>\n",
       "    <tr>\n",
       "      <th>50%</th>\n",
       "      <td>149.750000</td>\n",
       "      <td>22.900000</td>\n",
       "      <td>25.750000</td>\n",
       "      <td>12.900000</td>\n",
       "    </tr>\n",
       "    <tr>\n",
       "      <th>75%</th>\n",
       "      <td>218.825000</td>\n",
       "      <td>36.525000</td>\n",
       "      <td>45.100000</td>\n",
       "      <td>17.400000</td>\n",
       "    </tr>\n",
       "    <tr>\n",
       "      <th>max</th>\n",
       "      <td>296.400000</td>\n",
       "      <td>49.600000</td>\n",
       "      <td>114.000000</td>\n",
       "      <td>27.000000</td>\n",
       "    </tr>\n",
       "  </tbody>\n",
       "</table>\n",
       "</div>"
      ],
      "text/plain": [
       "               TV       radio   newspaper       sales\n",
       "count  200.000000  200.000000  200.000000  200.000000\n",
       "mean   147.042500   23.264000   30.554000   14.022500\n",
       "std     85.854236   14.846809   21.778621    5.217457\n",
       "min      0.700000    0.000000    0.300000    1.600000\n",
       "25%     74.375000    9.975000   12.750000   10.375000\n",
       "50%    149.750000   22.900000   25.750000   12.900000\n",
       "75%    218.825000   36.525000   45.100000   17.400000\n",
       "max    296.400000   49.600000  114.000000   27.000000"
      ]
     },
     "execution_count": 17,
     "metadata": {},
     "output_type": "execute_result"
    }
   ],
   "source": [
    "df.describe()"
   ]
  },
  {
   "cell_type": "code",
   "execution_count": 18,
   "metadata": {},
   "outputs": [
    {
     "data": {
      "text/plain": [
       "TV           147.0425\n",
       "radio         23.2640\n",
       "newspaper     30.5540\n",
       "sales         14.0225\n",
       "dtype: float64"
      ]
     },
     "execution_count": 18,
     "metadata": {},
     "output_type": "execute_result"
    }
   ],
   "source": [
    "df.mean()"
   ]
  },
  {
   "cell_type": "code",
   "execution_count": 21,
   "metadata": {},
   "outputs": [
    {
     "data": {
      "text/plain": [
       "TV           74.375\n",
       "radio         9.975\n",
       "newspaper    12.750\n",
       "sales        10.375\n",
       "Name: 0.25, dtype: float64"
      ]
     },
     "execution_count": 21,
     "metadata": {},
     "output_type": "execute_result"
    }
   ],
   "source": [
    "Q1=df.quantile(0.25)\n",
    "Q1"
   ]
  },
  {
   "cell_type": "code",
   "execution_count": 22,
   "metadata": {},
   "outputs": [
    {
     "data": {
      "text/plain": [
       "TV           218.825\n",
       "radio         36.525\n",
       "newspaper     45.100\n",
       "sales         17.400\n",
       "Name: 0.75, dtype: float64"
      ]
     },
     "execution_count": 22,
     "metadata": {},
     "output_type": "execute_result"
    }
   ],
   "source": [
    "Q3=df.quantile(0.75)\n",
    "Q3"
   ]
  },
  {
   "cell_type": "code",
   "execution_count": 23,
   "metadata": {},
   "outputs": [
    {
     "data": {
      "text/plain": [
       "TV           144.450\n",
       "radio         26.550\n",
       "newspaper     32.350\n",
       "sales          7.025\n",
       "dtype: float64"
      ]
     },
     "execution_count": 23,
     "metadata": {},
     "output_type": "execute_result"
    }
   ],
   "source": [
    "IQR= Q3-Q1\n",
    "IQR"
   ]
  },
  {
   "cell_type": "code",
   "execution_count": 24,
   "metadata": {},
   "outputs": [],
   "source": [
    "minVal=(Q1-1.5*IQR)\n",
    "maxVal=(Q3+1.5*IQR)\n"
   ]
  },
  {
   "cell_type": "code",
   "execution_count": 25,
   "metadata": {
    "collapsed": true
   },
   "outputs": [
    {
     "data": {
      "text/html": [
       "<div>\n",
       "<style scoped>\n",
       "    .dataframe tbody tr th:only-of-type {\n",
       "        vertical-align: middle;\n",
       "    }\n",
       "\n",
       "    .dataframe tbody tr th {\n",
       "        vertical-align: top;\n",
       "    }\n",
       "\n",
       "    .dataframe thead th {\n",
       "        text-align: right;\n",
       "    }\n",
       "</style>\n",
       "<table border=\"1\" class=\"dataframe\">\n",
       "  <thead>\n",
       "    <tr style=\"text-align: right;\">\n",
       "      <th></th>\n",
       "      <th>TV</th>\n",
       "      <th>radio</th>\n",
       "      <th>newspaper</th>\n",
       "      <th>sales</th>\n",
       "    </tr>\n",
       "  </thead>\n",
       "  <tbody>\n",
       "    <tr>\n",
       "      <th>0</th>\n",
       "      <td>NaN</td>\n",
       "      <td>NaN</td>\n",
       "      <td>NaN</td>\n",
       "      <td>NaN</td>\n",
       "    </tr>\n",
       "    <tr>\n",
       "      <th>1</th>\n",
       "      <td>NaN</td>\n",
       "      <td>NaN</td>\n",
       "      <td>NaN</td>\n",
       "      <td>NaN</td>\n",
       "    </tr>\n",
       "    <tr>\n",
       "      <th>2</th>\n",
       "      <td>NaN</td>\n",
       "      <td>NaN</td>\n",
       "      <td>NaN</td>\n",
       "      <td>NaN</td>\n",
       "    </tr>\n",
       "    <tr>\n",
       "      <th>3</th>\n",
       "      <td>NaN</td>\n",
       "      <td>NaN</td>\n",
       "      <td>NaN</td>\n",
       "      <td>NaN</td>\n",
       "    </tr>\n",
       "    <tr>\n",
       "      <th>4</th>\n",
       "      <td>NaN</td>\n",
       "      <td>NaN</td>\n",
       "      <td>NaN</td>\n",
       "      <td>NaN</td>\n",
       "    </tr>\n",
       "    <tr>\n",
       "      <th>...</th>\n",
       "      <td>...</td>\n",
       "      <td>...</td>\n",
       "      <td>...</td>\n",
       "      <td>...</td>\n",
       "    </tr>\n",
       "    <tr>\n",
       "      <th>195</th>\n",
       "      <td>NaN</td>\n",
       "      <td>NaN</td>\n",
       "      <td>NaN</td>\n",
       "      <td>NaN</td>\n",
       "    </tr>\n",
       "    <tr>\n",
       "      <th>196</th>\n",
       "      <td>NaN</td>\n",
       "      <td>NaN</td>\n",
       "      <td>NaN</td>\n",
       "      <td>NaN</td>\n",
       "    </tr>\n",
       "    <tr>\n",
       "      <th>197</th>\n",
       "      <td>NaN</td>\n",
       "      <td>NaN</td>\n",
       "      <td>NaN</td>\n",
       "      <td>NaN</td>\n",
       "    </tr>\n",
       "    <tr>\n",
       "      <th>198</th>\n",
       "      <td>NaN</td>\n",
       "      <td>NaN</td>\n",
       "      <td>NaN</td>\n",
       "      <td>NaN</td>\n",
       "    </tr>\n",
       "    <tr>\n",
       "      <th>199</th>\n",
       "      <td>NaN</td>\n",
       "      <td>NaN</td>\n",
       "      <td>NaN</td>\n",
       "      <td>NaN</td>\n",
       "    </tr>\n",
       "  </tbody>\n",
       "</table>\n",
       "<p>200 rows × 4 columns</p>\n",
       "</div>"
      ],
      "text/plain": [
       "     TV  radio  newspaper  sales\n",
       "0   NaN    NaN        NaN    NaN\n",
       "1   NaN    NaN        NaN    NaN\n",
       "2   NaN    NaN        NaN    NaN\n",
       "3   NaN    NaN        NaN    NaN\n",
       "4   NaN    NaN        NaN    NaN\n",
       "..   ..    ...        ...    ...\n",
       "195 NaN    NaN        NaN    NaN\n",
       "196 NaN    NaN        NaN    NaN\n",
       "197 NaN    NaN        NaN    NaN\n",
       "198 NaN    NaN        NaN    NaN\n",
       "199 NaN    NaN        NaN    NaN\n",
       "\n",
       "[200 rows x 4 columns]"
      ]
     },
     "execution_count": 25,
     "metadata": {},
     "output_type": "execute_result"
    }
   ],
   "source": [
    "df[((df<minVal)|(df>maxVal))]"
   ]
  },
  {
   "cell_type": "code",
   "execution_count": 26,
   "metadata": {},
   "outputs": [
    {
     "data": {
      "text/html": [
       "<div>\n",
       "<style scoped>\n",
       "    .dataframe tbody tr th:only-of-type {\n",
       "        vertical-align: middle;\n",
       "    }\n",
       "\n",
       "    .dataframe tbody tr th {\n",
       "        vertical-align: top;\n",
       "    }\n",
       "\n",
       "    .dataframe thead th {\n",
       "        text-align: right;\n",
       "    }\n",
       "</style>\n",
       "<table border=\"1\" class=\"dataframe\">\n",
       "  <thead>\n",
       "    <tr style=\"text-align: right;\">\n",
       "      <th></th>\n",
       "      <th>TV</th>\n",
       "      <th>radio</th>\n",
       "      <th>newspaper</th>\n",
       "      <th>sales</th>\n",
       "    </tr>\n",
       "  </thead>\n",
       "  <tbody>\n",
       "    <tr>\n",
       "      <th>16</th>\n",
       "      <td>67.8</td>\n",
       "      <td>36.6</td>\n",
       "      <td>114.0</td>\n",
       "      <td>12.5</td>\n",
       "    </tr>\n",
       "    <tr>\n",
       "      <th>101</th>\n",
       "      <td>296.4</td>\n",
       "      <td>36.3</td>\n",
       "      <td>100.9</td>\n",
       "      <td>23.8</td>\n",
       "    </tr>\n",
       "  </tbody>\n",
       "</table>\n",
       "</div>"
      ],
      "text/plain": [
       "        TV  radio  newspaper  sales\n",
       "16    67.8   36.6      114.0   12.5\n",
       "101  296.4   36.3      100.9   23.8"
      ]
     },
     "execution_count": 26,
     "metadata": {},
     "output_type": "execute_result"
    }
   ],
   "source": [
    "df[((df<minVal)|(df>maxVal)).any(axis=1)]"
   ]
  },
  {
   "cell_type": "code",
   "execution_count": 28,
   "metadata": {
    "collapsed": true
   },
   "outputs": [
    {
     "data": {
      "text/html": [
       "<div>\n",
       "<style scoped>\n",
       "    .dataframe tbody tr th:only-of-type {\n",
       "        vertical-align: middle;\n",
       "    }\n",
       "\n",
       "    .dataframe tbody tr th {\n",
       "        vertical-align: top;\n",
       "    }\n",
       "\n",
       "    .dataframe thead th {\n",
       "        text-align: right;\n",
       "    }\n",
       "</style>\n",
       "<table border=\"1\" class=\"dataframe\">\n",
       "  <thead>\n",
       "    <tr style=\"text-align: right;\">\n",
       "      <th></th>\n",
       "      <th>0</th>\n",
       "      <th>1</th>\n",
       "    </tr>\n",
       "  </thead>\n",
       "  <tbody>\n",
       "    <tr>\n",
       "      <th>0</th>\n",
       "      <td>2.0</td>\n",
       "      <td>NaN</td>\n",
       "    </tr>\n",
       "    <tr>\n",
       "      <th>1</th>\n",
       "      <td>NaN</td>\n",
       "      <td>NaN</td>\n",
       "    </tr>\n",
       "    <tr>\n",
       "      <th>2</th>\n",
       "      <td>1.0</td>\n",
       "      <td>NaN</td>\n",
       "    </tr>\n",
       "  </tbody>\n",
       "</table>\n",
       "</div>"
      ],
      "text/plain": [
       "     0   1\n",
       "0  2.0 NaN\n",
       "1  NaN NaN\n",
       "2  1.0 NaN"
      ]
     },
     "execution_count": 28,
     "metadata": {},
     "output_type": "execute_result"
    }
   ],
   "source": [
    "import numpy as np\n",
    "## any() Return True, if any of the item is true,else false if all items are empty\n",
    "any_df=pd.DataFrame([[2,np.NaN],[np.NaN,np.NaN],[1,np.NaN]])\n",
    "any_df"
   ]
  },
  {
   "cell_type": "code",
   "execution_count": 29,
   "metadata": {},
   "outputs": [
    {
     "data": {
      "text/plain": [
       "0     True\n",
       "1    False\n",
       "dtype: bool"
      ]
     },
     "execution_count": 29,
     "metadata": {},
     "output_type": "execute_result"
    }
   ],
   "source": [
    "any_df.any()"
   ]
  },
  {
   "cell_type": "markdown",
   "metadata": {},
   "source": [
    "- Many ML models perfomes faster when all the data points are on relatively similar scale\n",
    "- **scalling is used to compress all the vlues into a fixed range(0 to 1 or -2 to3)**"
   ]
  },
  {
   "cell_type": "markdown",
   "metadata": {},
   "source": [
    "## Scikit Learn\n",
    "- Scikit Learn is one of the library in python mainly used for machine models.\n",
    "- This Library conatins ML models, preposssing modles,etc..\n",
    "- https://scikit-learn.org/stable/"
   ]
  },
  {
   "cell_type": "code",
   "execution_count": 30,
   "metadata": {
    "collapsed": true
   },
   "outputs": [
    {
     "name": "stdout",
     "output_type": "stream",
     "text": [
      "Requirement already satisfied: sklearn in c:\\users\\lenovo_pc\\appdata\\local\\programs\\python\\python36\\lib\\site-packages (0.0)Note: you may need to restart the kernel to use updated packages.\n"
     ]
    },
    {
     "name": "stderr",
     "output_type": "stream",
     "text": [
      "WARNING: You are using pip version 20.2.2; however, version 20.2.4 is available."
     ]
    },
    {
     "name": "stdout",
     "output_type": "stream",
     "text": [
      "\n",
      "Requirement already satisfied: scikit-learn in c:\\users\\lenovo_pc\\appdata\\local\\programs\\python\\python36\\lib\\site-packages (from sklearn) (0.23.2)\n",
      "Requirement already satisfied: joblib>=0.11 in c:\\users\\lenovo_pc\\appdata\\local\\programs\\python\\python36\\lib\\site-packages (from scikit-learn->sklearn) (0.17.0)\n",
      "Requirement already satisfied: scipy>=0.19.1 in c:\\users\\lenovo_pc\\appdata\\local\\programs\\python\\python36\\lib\\site-packages (from scikit-learn->sklearn) (1.5.4)\n",
      "Requirement already satisfied: numpy>=1.13.3 in c:\\users\\lenovo_pc\\appdata\\local\\programs\\python\\python36\\lib\\site-packages (from scikit-learn->sklearn) (1.19.1)\n",
      "Requirement already satisfied: threadpoolctl>=2.0.0 in c:\\users\\lenovo_pc\\appdata\\local\\programs\\python\\python36\\lib\\site-packages (from scikit-learn->sklearn) (2.1.0)\n"
     ]
    },
    {
     "name": "stderr",
     "output_type": "stream",
     "text": [
      "\n",
      "You should consider upgrading via the 'c:\\users\\lenovo_pc\\appdata\\local\\programs\\python\\python36\\python.exe -m pip install --upgrade pip' command.\n"
     ]
    }
   ],
   "source": [
    "pip install sklearn"
   ]
  },
  {
   "cell_type": "code",
   "execution_count": 31,
   "metadata": {},
   "outputs": [],
   "source": [
    "import sklearn"
   ]
  },
  {
   "cell_type": "code",
   "execution_count": 32,
   "metadata": {},
   "outputs": [],
   "source": [
    "from sklearn import preprocessing"
   ]
  },
  {
   "cell_type": "markdown",
   "metadata": {},
   "source": [
    "### Scalling Techniques\n",
    "- Min Max Scaler\n",
    "- Robust Scaler\n",
    "- Standard\n",
    "- Normalizer\n",
    "- etc..."
   ]
  },
  {
   "cell_type": "markdown",
   "metadata": {},
   "source": [
    "### Min Max Scaler\n",
    "- It Scales the data between 0 to 1(or -1 to 1)\n",
    "    - [Xi -min(x)/[max(x)-min(x)]"
   ]
  },
  {
   "cell_type": "code",
   "execution_count": 34,
   "metadata": {},
   "outputs": [
    {
     "data": {
      "text/html": [
       "<div>\n",
       "<style scoped>\n",
       "    .dataframe tbody tr th:only-of-type {\n",
       "        vertical-align: middle;\n",
       "    }\n",
       "\n",
       "    .dataframe tbody tr th {\n",
       "        vertical-align: top;\n",
       "    }\n",
       "\n",
       "    .dataframe thead th {\n",
       "        text-align: right;\n",
       "    }\n",
       "</style>\n",
       "<table border=\"1\" class=\"dataframe\">\n",
       "  <thead>\n",
       "    <tr style=\"text-align: right;\">\n",
       "      <th></th>\n",
       "      <th>TV</th>\n",
       "      <th>radio</th>\n",
       "      <th>newspaper</th>\n",
       "      <th>sales</th>\n",
       "    </tr>\n",
       "  </thead>\n",
       "  <tbody>\n",
       "    <tr>\n",
       "      <th>0</th>\n",
       "      <td>230.1</td>\n",
       "      <td>37.8</td>\n",
       "      <td>69.2</td>\n",
       "      <td>22.1</td>\n",
       "    </tr>\n",
       "  </tbody>\n",
       "</table>\n",
       "</div>"
      ],
      "text/plain": [
       "      TV  radio  newspaper  sales\n",
       "0  230.1   37.8       69.2   22.1"
      ]
     },
     "execution_count": 34,
     "metadata": {},
     "output_type": "execute_result"
    }
   ],
   "source": [
    "df.head(1)"
   ]
  },
  {
   "cell_type": "code",
   "execution_count": 36,
   "metadata": {},
   "outputs": [
    {
     "name": "stdout",
     "output_type": "stream",
     "text": [
      "0.7\n",
      "296.4\n"
     ]
    }
   ],
   "source": [
    "print(df['TV'].min())\n",
    "print(df['TV'].max())"
   ]
  },
  {
   "cell_type": "code",
   "execution_count": 37,
   "metadata": {},
   "outputs": [
    {
     "data": {
      "text/plain": [
       "1.0"
      ]
     },
     "execution_count": 37,
     "metadata": {},
     "output_type": "execute_result"
    }
   ],
   "source": [
    "(296.4 - 0.7)/(296.4 - 0.7)"
   ]
  },
  {
   "cell_type": "markdown",
   "metadata": {},
   "source": [
    "### Applying Min Max Scaler Models\n",
    "- if scales the data b/w \n",
    "- https://scikit-learn.org/stable/modules/classes.html#module-sklearn.preprocessing"
   ]
  },
  {
   "cell_type": "code",
   "execution_count": 67,
   "metadata": {},
   "outputs": [
    {
     "data": {
      "text/plain": [
       "MinMaxScaler()"
      ]
     },
     "execution_count": 67,
     "metadata": {},
     "output_type": "execute_result"
    }
   ],
   "source": [
    "m=preprocessing.MinMaxScaler()\n",
    "m"
   ]
  },
  {
   "cell_type": "code",
   "execution_count": 68,
   "metadata": {
    "collapsed": true
   },
   "outputs": [
    {
     "data": {
      "text/plain": [
       "array([[0.77578627, 0.76209677, 0.60598065, 0.80708661],\n",
       "       [0.1481231 , 0.79233871, 0.39401935, 0.34645669],\n",
       "       [0.0557998 , 0.92540323, 0.60686016, 0.30314961],\n",
       "       [0.50997633, 0.83266129, 0.51187335, 0.66535433],\n",
       "       [0.60906324, 0.21774194, 0.51099384, 0.44488189],\n",
       "       [0.02705445, 0.9858871 , 0.65699208, 0.22047244],\n",
       "       [0.19208657, 0.66129032, 0.20404573, 0.4015748 ],\n",
       "       [0.4041258 , 0.39516129, 0.09938434, 0.45669291],\n",
       "       [0.02671627, 0.04233871, 0.00615655, 0.12598425],\n",
       "       [0.67331755, 0.05241935, 0.18381706, 0.35433071],\n",
       "       [0.2211701 , 0.11693548, 0.21020229, 0.27559055],\n",
       "       [0.72370646, 0.48387097, 0.03254178, 0.62204724],\n",
       "       [0.07811972, 0.70766129, 0.5769569 , 0.2992126 ],\n",
       "       [0.32735881, 0.15322581, 0.06068602, 0.31889764],\n",
       "       [0.68785932, 0.66330645, 0.40193492, 0.68503937],\n",
       "       [0.65843761, 0.96169355, 0.46262093, 0.81889764],\n",
       "       [0.22691917, 0.73790323, 1.        , 0.42913386],\n",
       "       [0.94927291, 0.7983871 , 0.48812665, 0.8976378 ],\n",
       "       [0.2316537 , 0.41330645, 0.15831135, 0.38188976],\n",
       "       [0.49577274, 0.48185484, 0.16534741, 0.51181102],\n",
       "       [0.73621914, 0.55846774, 0.46701847, 0.64566929],\n",
       "       [0.80047345, 0.10282258, 0.20404573, 0.42913386],\n",
       "       [0.04227257, 0.32056452, 0.43359719, 0.15748031],\n",
       "       [0.76969902, 0.34072581, 0.22779244, 0.54724409],\n",
       "       [0.20831924, 0.25403226, 0.15831135, 0.31889764],\n",
       "       [0.8867095 , 0.07056452, 0.16886544, 0.40944882],\n",
       "       [0.4808928 , 0.59072581, 0.10817942, 0.52755906],\n",
       "       [0.80960433, 0.33669355, 0.19876869, 0.56299213],\n",
       "       [0.83902604, 0.54637097, 0.19876869, 0.68110236],\n",
       "       [0.23638823, 0.32258065, 0.35620053, 0.3503937 ],\n",
       "       [0.98816368, 0.57056452, 0.37730871, 0.77952756],\n",
       "       [0.37943862, 0.35080645, 0.33685136, 0.40551181],\n",
       "       [0.32634427, 0.03024194, 0.26121372, 0.31496063],\n",
       "       [0.89584038, 0.40322581, 0.        , 0.62204724],\n",
       "       [0.32127156, 0.02822581, 0.06244503, 0.31102362],\n",
       "       [0.98072371, 0.08266129, 0.07211961, 0.44094488],\n",
       "       [0.90023673, 0.88306452, 0.04133685, 0.93700787],\n",
       "       [0.25025364, 0.99596774, 0.39929639, 0.51574803],\n",
       "       [0.14338857, 0.53830645, 0.3060686 , 0.33464567],\n",
       "       [0.76868448, 0.76008065, 0.27880387, 0.78346457],\n",
       "       [0.68244843, 0.44959677, 0.27528584, 0.59055118],\n",
       "       [0.59621238, 0.6733871 , 0.33773087, 0.61023622],\n",
       "       [0.99053094, 0.55846774, 0.01319261, 0.7519685 ],\n",
       "       [0.69732837, 0.16935484, 0.22955145, 0.44488189],\n",
       "       [0.08251606, 0.51814516, 0.37818821, 0.27165354],\n",
       "       [0.58978695, 0.45362903, 0.27440633, 0.52362205],\n",
       "       [0.30098072, 0.19959677, 0.31134565, 0.35433071],\n",
       "       [0.80892797, 0.83669355, 0.16007036, 0.8503937 ],\n",
       "       [0.76597903, 0.31854839, 0.43623571, 0.51968504],\n",
       "       [0.22387555, 0.2358871 , 0.32102023, 0.31889764],\n",
       "       [0.67331755, 0.0625    , 0.30167106, 0.38582677],\n",
       "       [0.33716605, 0.19354839, 0.02902375, 0.35826772],\n",
       "       [0.72945553, 0.84072581, 0.34564644, 0.82677165],\n",
       "       [0.61515049, 0.93145161, 0.51363237, 0.77165354],\n",
       "       [0.88603314, 0.58064516, 0.13720317, 0.73228346],\n",
       "       [0.67027393, 0.99596774, 0.52506596, 0.87007874],\n",
       "       [0.02231992, 0.56653226, 0.36147757, 0.15354331],\n",
       "       [0.4582347 , 0.38709677, 0.14335972, 0.45669291],\n",
       "       [0.71051742, 1.        , 0.3289358 , 0.87401575],\n",
       "       [0.71017924, 0.59475806, 0.07915567, 0.66141732],\n",
       "       [0.17855935, 0.04032258, 0.18557608, 0.25590551],\n",
       "       [0.88129861, 0.8608871 , 0.47845207, 0.88976378],\n",
       "       [0.80689888, 0.3125    , 0.23746702, 0.55511811],\n",
       "       [0.3449442 , 0.59677419, 0.07124011, 0.48818898],\n",
       "       [0.44098749, 0.86290323, 0.25153914, 0.64566929],\n",
       "       [0.23097734, 0.1875    , 0.00527704, 0.30314961],\n",
       "       [0.10415962, 0.49596774, 0.01671064, 0.31102362],\n",
       "       [0.4687183 , 0.29233871, 0.08707124, 0.46456693],\n",
       "       [0.80047345, 0.55443548, 0.0941073 , 0.68110236],\n",
       "       [0.73080825, 0.88508065, 0.23658751, 0.81496063],\n",
       "       [0.67095029, 0.61693548, 0.33773087, 0.65748031],\n",
       "       [0.36895502, 0.28830645, 0.27616535, 0.42519685],\n",
       "       [0.08826513, 0.66532258, 0.16710642, 0.28346457],\n",
       "       [0.43523842, 0.11491935, 0.27264732, 0.37007874],\n",
       "       [0.71931011, 0.49596774, 0.11257696, 0.60629921],\n",
       "       [0.05478526, 0.88104839, 0.78364116, 0.27952756],\n",
       "       [0.0906324 , 0.03225806, 0.17941953, 0.20866142],\n",
       "       [0.40514034, 0.57459677, 0.12225154, 0.49606299],\n",
       "       [0.01589449, 0.60282258, 0.08003518, 0.14566929],\n",
       "       [0.38992222, 0.15524194, 0.2005277 , 0.37007874],\n",
       "       [0.25600271, 0.53830645, 0.19349164, 0.4015748 ],\n",
       "       [0.80858979, 0.08266129, 0.32189974, 0.42125984],\n",
       "       [0.25228272, 0.40927419, 0.28320141, 0.38188976],\n",
       "       [0.22894826, 0.89717742, 0.31046614, 0.47244094],\n",
       "       [0.71964829, 0.86693548, 0.294635  , 0.79133858],\n",
       "       [0.65099763, 0.37096774, 0.57519789, 0.53543307],\n",
       "       [0.25566452, 0.55443548, 0.13808267, 0.40944882],\n",
       "       [0.37199865, 0.81854839, 0.5532102 , 0.56692913],\n",
       "       [0.2962462 , 0.5141129 , 0.64291996, 0.44488189],\n",
       "       [0.36895502, 0.96370968, 0.44942832, 0.59448819],\n",
       "       [0.45180927, 0.09879032, 0.07915567, 0.37795276],\n",
       "       [0.09435238, 0.03024194, 0.28759894, 0.22440945],\n",
       "       [0.73385188, 0.67540323, 0.51627089, 0.7007874 ],\n",
       "       [0.84612783, 0.7358871 , 0.63324538, 0.81102362],\n",
       "       [0.36083869, 0.28225806, 0.09322779, 0.38976378],\n",
       "       [0.54988164, 0.63709677, 0.46262093, 0.6023622 ],\n",
       "       [0.66587758, 0.07056452, 0.04925242, 0.3976378 ],\n",
       "       [0.62292864, 0.4233871 , 0.19085312, 0.54724409],\n",
       "       [0.9773419 , 0.85282258, 0.44766931, 0.93700787],\n",
       "       [0.45485289, 0.84072581, 0.40105541, 0.61417323],\n",
       "       [0.74974636, 0.08669355, 0.4353562 , 0.3976378 ],\n",
       "       [1.        , 0.73185484, 0.88478452, 0.87401575],\n",
       "       [0.94521474, 0.20362903, 0.18557608, 0.51968504],\n",
       "       [0.63307406, 0.34677419, 0.15479332, 0.51574803],\n",
       "       [0.8031789 , 0.69153226, 0.04397537, 0.7519685 ],\n",
       "       [0.46398377, 0.93548387, 0.51627089, 0.69291339],\n",
       "       [0.08217788, 0.22177419, 0.2585752 , 0.22047244],\n",
       "       [0.30334799, 0.00604839, 0.20140721, 0.27952756],\n",
       "       [0.04193439, 0.00806452, 0.22251539, 0.14566929],\n",
       "       [0.86134596, 0.54233871, 0.04573439, 0.71653543],\n",
       "       [0.7612445 , 0.16532258, 0.4942832 , 0.46456693],\n",
       "       [0.81501522, 0.76612903, 0.20140721, 0.79527559],\n",
       "       [0.59181603, 0.31048387, 0.01846966, 0.49212598],\n",
       "       [0.70645925, 0.41532258, 0.09146878, 0.56299213],\n",
       "       [0.26208996, 0.94354839, 0.30079156, 0.51181102],\n",
       "       [0.25160636, 0.70564516, 0.46086192, 0.43307087],\n",
       "       [0.46838011, 0.28830645, 0.22251539, 0.41732283],\n",
       "       [0.25600271, 0.01612903, 0.12752858, 0.30708661],\n",
       "       [0.42272574, 0.74395161, 0.6939314 , 0.56299213],\n",
       "       [0.06323977, 0.32258065, 0.19349164, 0.19685039],\n",
       "       [0.47548191, 0.54032258, 0.40369393, 0.54724409],\n",
       "       [0.06121069, 0.4375    , 0.44063325, 0.21259843],\n",
       "       [0.75515725, 0.0483871 , 0.13456464, 0.39370079],\n",
       "       [0.41393304, 0.69758065, 0.1064204 , 0.53543307],\n",
       "       [0.77375719, 0.65120968, 0.64995602, 0.71259843],\n",
       "       [0.29252621, 0.23790323, 0.22515391, 0.35433071],\n",
       "       [0.02401082, 0.78427419, 0.44239226, 0.19685039],\n",
       "       [0.26885357, 0.        , 0.07827617, 0.28346457],\n",
       "       [0.74264457, 0.98790323, 0.02550572, 0.90944882],\n",
       "       [0.19918837, 0.24193548, 0.3764292 , 0.31889764],\n",
       "       [0.        , 0.7983871 , 0.07387863, 0.        ],\n",
       "       [0.89448766, 0.05846774, 0.37554969, 0.43700787],\n",
       "       [0.02603991, 0.5483871 , 0.01583113, 0.16141732],\n",
       "       [0.74095367, 0.67540323, 0.39401935, 0.70866142],\n",
       "       [0.12242137, 0.77822581, 0.57431838, 0.36220472],\n",
       "       [0.16097396, 0.94758065, 0.07211961, 0.39370079],\n",
       "       [0.08420697, 0.78629032, 0.07915567, 0.31102362],\n",
       "       [0.92323301, 0.58266129, 0.52242744, 0.75590551],\n",
       "       [0.14305039, 0.52217742, 0.17766051, 0.31496063],\n",
       "       [0.62292864, 0.88508065, 0.0123131 , 0.7519685 ],\n",
       "       [0.24585729, 0.34274194, 0.11081794, 0.36614173],\n",
       "       [0.65268854, 0.71370968, 0.66226913, 0.69291339],\n",
       "       [0.74332093, 0.66935484, 0.33069481, 0.72834646],\n",
       "       [0.35136963, 0.11491935, 0.29991205, 0.34645669],\n",
       "       [0.32296246, 0.2983871 , 0.33948989, 0.38582677],\n",
       "       [0.4721001 , 0.03830645, 0.07651715, 0.34251969],\n",
       "       [0.80960433, 0.14717742, 0.07387863, 0.45669291],\n",
       "       [0.82008793, 0.98790323, 0.38698329, 0.93700787],\n",
       "       [0.12614136, 0.8125    , 0.10202287, 0.36614173],\n",
       "       [0.14879946, 0.52016129, 0.17854002, 0.33464567],\n",
       "       [0.94690565, 0.28024194, 0.32277924, 0.57086614],\n",
       "       [0.40683125, 0.16935484, 0.42568162, 0.39370079],\n",
       "       [0.66587758, 0.46975806, 0.12225154, 0.59055118],\n",
       "       [0.57693608, 0.80040323, 0.3289358 , 0.68503937],\n",
       "       [0.63273588, 0.42540323, 0.08091469, 0.5511811 ],\n",
       "       [0.01149814, 0.23387097, 0.0474934 , 0.06299213],\n",
       "       [0.31518431, 0.87701613, 0.44151275, 0.53937008],\n",
       "       [0.50422726, 0.02620968, 0.21108179, 0.33464567],\n",
       "       [0.03719986, 0.74395161, 0.39489886, 0.22440945],\n",
       "       [0.44301657, 0.37096774, 0.30167106, 0.44488189],\n",
       "       [0.58099425, 0.36491935, 0.26737027, 0.50393701],\n",
       "       [0.2874535 , 0.72177419, 0.43095866, 0.46062992],\n",
       "       [0.63476496, 0.36491935, 0.22251539, 0.52362205],\n",
       "       [0.550558  , 0.74193548, 0.06244503, 0.64566929],\n",
       "       [0.39398039, 0.29637097, 0.04485488, 0.40551181],\n",
       "       [0.79066622, 0.06854839, 0.74318382, 0.40551181],\n",
       "       [0.05816706, 0.75806452, 0.18733509, 0.2519685 ],\n",
       "       [0.69699019, 0.10483871, 0.16798593, 0.41732283],\n",
       "       [0.72607372, 0.47580645, 0.50395778, 0.61023622],\n",
       "       [0.95908015, 0.21370968, 0.05364996, 0.52755906],\n",
       "       [0.16672303, 0.23387097, 0.15919085, 0.26771654],\n",
       "       [0.5539398 , 0.42137097, 0.41424802, 0.50787402],\n",
       "       [0.06391613, 0.40524194, 0.14687775, 0.23622047],\n",
       "       [0.56712885, 0.14314516, 0.10993843, 0.3976378 ],\n",
       "       [0.74974636, 0.06854839, 0.11257696, 0.38976378],\n",
       "       [0.93405479, 0.9858871 , 0.3649956 , 1.        ],\n",
       "       [0.83767332, 0.60887097, 0.1759015 , 0.73228346],\n",
       "       [0.5732161 , 0.15725806, 0.30694811, 0.3976378 ],\n",
       "       [0.93337842, 0.04637097, 0.20580475, 0.4015748 ],\n",
       "       [0.55765979, 0.2016129 , 0.15215479, 0.43307087],\n",
       "       [0.52722354, 0.05241935, 0.0703606 , 0.3503937 ],\n",
       "       [0.73655732, 0.10887097, 0.23834653, 0.41732283],\n",
       "       [0.18769023, 0.11491935, 0.2585752 , 0.27952756],\n",
       "       [0.97024011, 0.86693548, 0.62884785, 0.96850394],\n",
       "       [0.85593507, 0.42943548, 0.26121372, 0.62992126],\n",
       "       [0.69090294, 0.90927419, 0.16974494, 0.82677165],\n",
       "       [0.46939466, 0.04233871, 0.23131047, 0.34251969],\n",
       "       [0.64389584, 0.57862903, 0.15743184, 0.61811024],\n",
       "       [0.96482922, 0.28024194, 0.02990325, 0.56299213],\n",
       "       [0.06087251, 0.24395161, 0.20316623, 0.2007874 ],\n",
       "       [0.13121407, 0.82862903, 0.04837291, 0.36220472],\n",
       "       [0.25295908, 0.21774194, 0.05013193, 0.32677165],\n",
       "       [0.0557998 , 0.08266129, 0.27528584, 0.16929134],\n",
       "       [0.56171796, 0.84677419, 0.02902375, 0.70866142],\n",
       "       [0.50388908, 0.71774194, 0.05013193, 0.61811024],\n",
       "       [0.12681772, 0.07459677, 0.11873351, 0.23622047],\n",
       "       [0.31619885, 0.09879032, 0.06860158, 0.31889764],\n",
       "       [0.59621238, 0.1875    , 0.05364996, 0.44094488],\n",
       "       [0.95671288, 0.84677419, 0.57959543, 0.94094488],\n",
       "       [0.78254988, 0.1733871 , 0.07387863, 0.46456693]])"
      ]
     },
     "execution_count": 68,
     "metadata": {},
     "output_type": "execute_result"
    }
   ],
   "source": [
    "m2=m.fit_transform(df)\n",
    "m2"
   ]
  },
  {
   "cell_type": "code",
   "execution_count": 69,
   "metadata": {},
   "outputs": [
    {
     "data": {
      "text/html": [
       "<div>\n",
       "<style scoped>\n",
       "    .dataframe tbody tr th:only-of-type {\n",
       "        vertical-align: middle;\n",
       "    }\n",
       "\n",
       "    .dataframe tbody tr th {\n",
       "        vertical-align: top;\n",
       "    }\n",
       "\n",
       "    .dataframe thead th {\n",
       "        text-align: right;\n",
       "    }\n",
       "</style>\n",
       "<table border=\"1\" class=\"dataframe\">\n",
       "  <thead>\n",
       "    <tr style=\"text-align: right;\">\n",
       "      <th></th>\n",
       "      <th>TV</th>\n",
       "      <th>radio</th>\n",
       "      <th>newspaper</th>\n",
       "      <th>sales</th>\n",
       "    </tr>\n",
       "  </thead>\n",
       "  <tbody>\n",
       "    <tr>\n",
       "      <th>0</th>\n",
       "      <td>0.775786</td>\n",
       "      <td>0.762097</td>\n",
       "      <td>0.605981</td>\n",
       "      <td>0.807087</td>\n",
       "    </tr>\n",
       "    <tr>\n",
       "      <th>1</th>\n",
       "      <td>0.148123</td>\n",
       "      <td>0.792339</td>\n",
       "      <td>0.394019</td>\n",
       "      <td>0.346457</td>\n",
       "    </tr>\n",
       "    <tr>\n",
       "      <th>2</th>\n",
       "      <td>0.055800</td>\n",
       "      <td>0.925403</td>\n",
       "      <td>0.606860</td>\n",
       "      <td>0.303150</td>\n",
       "    </tr>\n",
       "    <tr>\n",
       "      <th>3</th>\n",
       "      <td>0.509976</td>\n",
       "      <td>0.832661</td>\n",
       "      <td>0.511873</td>\n",
       "      <td>0.665354</td>\n",
       "    </tr>\n",
       "    <tr>\n",
       "      <th>4</th>\n",
       "      <td>0.609063</td>\n",
       "      <td>0.217742</td>\n",
       "      <td>0.510994</td>\n",
       "      <td>0.444882</td>\n",
       "    </tr>\n",
       "  </tbody>\n",
       "</table>\n",
       "</div>"
      ],
      "text/plain": [
       "         TV     radio  newspaper     sales\n",
       "0  0.775786  0.762097   0.605981  0.807087\n",
       "1  0.148123  0.792339   0.394019  0.346457\n",
       "2  0.055800  0.925403   0.606860  0.303150\n",
       "3  0.509976  0.832661   0.511873  0.665354\n",
       "4  0.609063  0.217742   0.510994  0.444882"
      ]
     },
     "execution_count": 69,
     "metadata": {},
     "output_type": "execute_result"
    }
   ],
   "source": [
    "m2=pd.DataFrame(m2,columns=df.columns)\n",
    "m2.head()"
   ]
  },
  {
   "cell_type": "code",
   "execution_count": 70,
   "metadata": {},
   "outputs": [],
   "source": [
    "import seaborn as sns\n"
   ]
  },
  {
   "cell_type": "code",
   "execution_count": 50,
   "metadata": {
    "collapsed": true
   },
   "outputs": [
    {
     "data": {
      "image/png": "[encoded data removed]",
      "text/plain": [
       "<Figure size 648x360 with 2 Axes>"
      ]
     },
     "metadata": {
      "needs_background": "light"
     },
     "output_type": "display_data"
    }
   ],
   "source": [
    "fig,(ax1,ax2)=plt.subplots(ncols =2,figsize=(9,5))"
   ]
  },
  {
   "cell_type": "code",
   "execution_count": 71,
   "metadata": {},
   "outputs": [
    {
     "data": {
      "text/plain": [
       "<AxesSubplot:xlabel='TV', ylabel='Density'>"
      ]
     },
     "execution_count": 71,
     "metadata": {},
     "output_type": "execute_result"
    },
    {
     "data": {
      "image/png": "[encoded data removed]",
      "text/plain": [
       "<Figure size 648x360 with 2 Axes>"
      ]
     },
     "metadata": {
      "needs_background": "light"
     },
     "output_type": "display_data"
    }
   ],
   "source": [
    "fig, (ax1,ax2)=plt.subplots(ncols =2,figsize=(9,5))\n",
    "sns.kdeplot(df['TV'],ax=ax1)\n",
    "sns.kdeplot(df['radio'],ax=ax1)\n",
    "sns.kdeplot(df['newspaper'],ax=ax1)\n",
    "sns.kdeplot(df['sales'],ax=ax1)\n",
    "\n",
    "sns.kdeplot(m2['TV'],ax=ax2)\n",
    "sns.kdeplot(m2['radio'],ax=ax2)\n",
    "sns.kdeplot(m2['newspaper'],ax=ax2)\n",
    "sns.kdeplot(m2['sales'],ax=ax2)"
   ]
  },
  {
   "cell_type": "markdown",
   "metadata": {},
   "source": [
    "### Robust Scaler\n",
    "- It is mainly userd for dataset which contains ouliers\n",
    "- Scaling b/w IQR(25% TO 70%)\n",
    "- [Xi -Q1(X)] / [Q3(X)-Q1(X)]\n",
    "    - Q1-25%[loWER quartile]\n",
    "    - Q2-50%[Medium]\n",
    "    - Q3-75%[Upper Quartile]"
   ]
  },
  {
   "cell_type": "code",
   "execution_count": 59,
   "metadata": {},
   "outputs": [
    {
     "data": {
      "text/plain": [
       "RobustScaler()"
      ]
     },
     "execution_count": 59,
     "metadata": {},
     "output_type": "execute_result"
    }
   ],
   "source": [
    "rb=preprocessing.RobustScaler()\n",
    "rb"
   ]
  },
  {
   "cell_type": "code",
   "execution_count": 72,
   "metadata": {
    "collapsed": true
   },
   "outputs": [
    {
     "data": {
      "text/plain": [
       "array([[ 5.56247837e-01,  5.61205273e-01,  1.34312210e+00,\n",
       "         1.30960854e+00],\n",
       "       [-7.28625822e-01,  6.17702448e-01,  5.98145286e-01,\n",
       "        -3.55871886e-01],\n",
       "       [-9.17618553e-01,  8.66290019e-01,  1.34621329e+00,\n",
       "        -5.12455516e-01],\n",
       "       [ 1.21149187e-02,  6.93032015e-01,  1.01236476e+00,\n",
       "         7.97153025e-01],\n",
       "       [ 2.14953271e-01, -4.55743879e-01,  1.00927357e+00,\n",
       "         0.00000000e+00],\n",
       "       [-9.76462444e-01,  9.79284369e-01,  1.52241113e+00,\n",
       "        -8.11387900e-01],\n",
       "       [-6.38629283e-01,  3.72881356e-01, -6.95517774e-02,\n",
       "        -1.56583630e-01],\n",
       "       [-2.04569055e-01, -1.24293785e-01, -4.37403400e-01,\n",
       "         4.27046263e-02],\n",
       "       [-9.77154725e-01, -7.83427495e-01, -7.65069552e-01,\n",
       "        -1.15302491e+00],\n",
       "       [ 3.46486674e-01, -7.64595104e-01, -1.40649150e-01,\n",
       "        -3.27402135e-01],\n",
       "       [-5.79093112e-01, -6.44067797e-01, -4.79134467e-02,\n",
       "        -6.12099644e-01],\n",
       "       [ 4.49636552e-01,  4.14312618e-02, -6.72333849e-01,\n",
       "         6.40569395e-01],\n",
       "       [-8.71928003e-01,  4.59510358e-01,  1.24111283e+00,\n",
       "        -5.26690391e-01],\n",
       "       [-3.61716857e-01, -5.76271186e-01, -5.73415765e-01,\n",
       "        -4.55516014e-01],\n",
       "       [ 3.76254759e-01,  3.76647834e-01,  6.25965997e-01,\n",
       "         8.68327402e-01],\n",
       "       [ 3.16026307e-01,  9.34086629e-01,  8.39258114e-01,\n",
       "         1.35231317e+00],\n",
       "       [-5.67324334e-01,  5.16007533e-01,  2.72797527e+00,\n",
       "        -5.69395018e-02],\n",
       "       [ 9.11388024e-01,  6.29001883e-01,  9.28902628e-01,\n",
       "         1.63701068e+00],\n",
       "       [-5.57632399e-01, -9.03954802e-02, -2.30293663e-01,\n",
       "        -2.27758007e-01],\n",
       "       [-1.69608861e-02,  3.76647834e-02, -2.05564142e-01,\n",
       "         2.41992883e-01],\n",
       "       [ 4.75250952e-01,  1.80790960e-01,  8.54714065e-01,\n",
       "         7.25978648e-01],\n",
       "       [ 6.06784354e-01, -6.70433145e-01, -6.95517774e-02,\n",
       "        -5.69395018e-02],\n",
       "       [-9.45309796e-01, -2.63653484e-01,  7.37248841e-01,\n",
       "        -1.03914591e+00],\n",
       "       [ 5.43786777e-01, -2.25988701e-01,  1.39103555e-02,\n",
       "         3.70106762e-01],\n",
       "       [-6.05399792e-01, -3.87947269e-01, -2.30293663e-01,\n",
       "        -4.55516014e-01],\n",
       "       [ 7.83316026e-01, -7.30696798e-01, -1.93199382e-01,\n",
       "        -1.28113879e-01],\n",
       "       [-4.74212530e-02,  2.41054614e-01, -4.06491499e-01,\n",
       "         2.98932384e-01],\n",
       "       [ 6.25475943e-01, -2.33521657e-01, -8.80989181e-02,\n",
       "         4.27046263e-01],\n",
       "       [ 6.85704396e-01,  1.58192090e-01, -8.80989181e-02,\n",
       "         8.54092527e-01],\n",
       "       [-5.47940464e-01, -2.59887006e-01,  4.65224111e-01,\n",
       "        -3.41637011e-01],\n",
       "       [ 9.91000346e-01,  2.03389831e-01,  5.39412674e-01,\n",
       "         1.20996441e+00],\n",
       "       [-2.55105573e-01, -2.07156309e-01,  3.97217929e-01,\n",
       "        -1.42348754e-01],\n",
       "       [-3.63793700e-01, -8.06026365e-01,  1.31375580e-01,\n",
       "        -4.69750890e-01],\n",
       "       [ 8.02007615e-01, -1.09227872e-01, -7.86707883e-01,\n",
       "         6.40569395e-01],\n",
       "       [-3.74177916e-01, -8.09792844e-01, -5.67233385e-01,\n",
       "        -4.83985765e-01],\n",
       "       [ 9.75770163e-01, -7.08097928e-01, -5.33230294e-01,\n",
       "        -1.42348754e-02],\n",
       "       [ 8.11007269e-01,  7.87193974e-01, -6.41421947e-01,\n",
       "         1.77935943e+00],\n",
       "       [-5.19556940e-01,  9.98116761e-01,  6.16692427e-01,\n",
       "         2.56227758e-01],\n",
       "       [-7.38317757e-01,  1.43126177e-01,  2.89026275e-01,\n",
       "        -3.98576512e-01],\n",
       "       [ 5.41709934e-01,  5.57438795e-01,  1.93199382e-01,\n",
       "         1.22419929e+00],\n",
       "       [ 3.65178262e-01, -2.25988701e-02,  1.80834621e-01,\n",
       "         5.26690391e-01],\n",
       "       [ 1.88646591e-01,  3.95480226e-01,  4.00309119e-01,\n",
       "         5.97864769e-01],\n",
       "       [ 9.95846314e-01,  1.80790960e-01, -7.40340031e-01,\n",
       "         1.11032028e+00],\n",
       "       [ 3.95638629e-01, -5.46139360e-01,  2.00927357e-02,\n",
       "         0.00000000e+00],\n",
       "       [-8.62928349e-01,  1.05461394e-01,  5.42503864e-01,\n",
       "        -6.26334520e-01],\n",
       "       [ 1.75493250e-01, -1.50659134e-02,  1.77743431e-01,\n",
       "         2.84697509e-01],\n",
       "       [-4.15714780e-01, -4.89642185e-01,  3.07573416e-01,\n",
       "        -3.27402135e-01],\n",
       "       [ 6.24091381e-01,  7.00564972e-01, -2.24111283e-01,\n",
       "         1.46619217e+00],\n",
       "       [ 5.36171686e-01, -2.67419962e-01,  7.46522411e-01,\n",
       "         2.70462633e-01],\n",
       "       [-5.73554863e-01, -4.21845574e-01,  3.41576507e-01,\n",
       "        -4.55516014e-01],\n",
       "       [ 3.46486674e-01, -7.45762712e-01,  2.73570325e-01,\n",
       "        -2.13523132e-01],\n",
       "       [-3.41640706e-01, -5.00941620e-01, -6.84698609e-01,\n",
       "        -3.13167260e-01],\n",
       "       [ 4.61405331e-01,  7.08097928e-01,  4.28129830e-01,\n",
       "         1.38078292e+00],\n",
       "       [ 2.27414330e-01,  8.77589454e-01,  1.01854714e+00,\n",
       "         1.18149466e+00],\n",
       "       [ 7.81931464e-01,  2.22222222e-01, -3.04482226e-01,\n",
       "         1.03914591e+00],\n",
       "       [ 3.40256144e-01,  9.98116761e-01,  1.05873261e+00,\n",
       "         1.53736655e+00],\n",
       "       [-9.86154379e-01,  1.95856874e-01,  4.83771252e-01,\n",
       "        -1.05338078e+00],\n",
       "       [-9.38040845e-02, -1.39359699e-01, -2.82843895e-01,\n",
       "         4.27046263e-02],\n",
       "       [ 4.22637591e-01,  1.00564972e+00,  3.69397218e-01,\n",
       "         1.55160142e+00],\n",
       "       [ 4.21945310e-01,  2.48587571e-01, -5.08500773e-01,\n",
       "         7.82918149e-01],\n",
       "       [-6.66320526e-01, -7.87193974e-01, -1.34466770e-01,\n",
       "        -6.83274021e-01],\n",
       "       [ 7.72239529e-01,  7.45762712e-01,  8.94899536e-01,\n",
       "         1.60854093e+00],\n",
       "       [ 6.19937695e-01, -2.78719397e-01,  4.79134467e-02,\n",
       "         3.98576512e-01],\n",
       "       [-3.25718242e-01,  2.52354049e-01, -5.36321484e-01,\n",
       "         1.56583630e-01],\n",
       "       [-1.29110419e-01,  7.49529190e-01,  9.73724884e-02,\n",
       "         7.25978648e-01],\n",
       "       [-5.59016961e-01, -5.12241055e-01, -7.68160742e-01,\n",
       "        -5.12455516e-01],\n",
       "       [-8.18622361e-01,  6.40301318e-02, -7.27975270e-01,\n",
       "        -4.83985765e-01],\n",
       "       [-7.23433714e-02, -3.16384181e-01, -4.80680062e-01,\n",
       "         7.11743772e-02],\n",
       "       [ 6.06784354e-01,  1.73258004e-01, -4.55950541e-01,\n",
       "         8.54092527e-01],\n",
       "       [ 4.64174455e-01,  7.90960452e-01,  4.48222566e-02,\n",
       "         1.33807829e+00],\n",
       "       [ 3.41640706e-01,  2.90018832e-01,  4.00309119e-01,\n",
       "         7.68683274e-01],\n",
       "       [-2.76566286e-01, -3.23917137e-01,  1.83925811e-01,\n",
       "        -7.11743772e-02],\n",
       "       [-8.51159571e-01,  3.80414313e-01, -1.99381762e-01,\n",
       "        -5.83629893e-01],\n",
       "       [-1.40879197e-01, -6.47834275e-01,  1.71561051e-01,\n",
       "        -2.70462633e-01],\n",
       "       [ 4.40636899e-01,  6.40301318e-02, -3.91035549e-01,\n",
       "         5.83629893e-01],\n",
       "       [-9.19695396e-01,  7.83427495e-01,  1.96754250e+00,\n",
       "        -5.97864769e-01],\n",
       "       [-8.46313603e-01, -8.02259887e-01, -1.56105100e-01,\n",
       "        -8.54092527e-01],\n",
       "       [-2.02492212e-01,  2.10922787e-01, -3.57032457e-01,\n",
       "         1.85053381e-01],\n",
       "       [-9.99307719e-01,  2.63653484e-01, -5.05409583e-01,\n",
       "        -1.08185053e+00],\n",
       "       [-2.33644860e-01, -5.72504708e-01, -8.19165379e-02,\n",
       "        -2.70462633e-01],\n",
       "       [-5.07788162e-01,  1.43126177e-01, -1.06646059e-01,\n",
       "        -1.56583630e-01],\n",
       "       [ 6.23399100e-01, -7.08097928e-01,  3.44667697e-01,\n",
       "        -8.54092527e-02],\n",
       "       [-5.15403254e-01, -9.79284369e-02,  2.08655332e-01,\n",
       "        -2.27758007e-01],\n",
       "       [-5.63170647e-01,  8.13559322e-01,  3.04482226e-01,\n",
       "         9.96441281e-02],\n",
       "       [ 4.41329180e-01,  7.57062147e-01,  2.48840804e-01,\n",
       "         1.25266904e+00],\n",
       "       [ 3.00796123e-01, -1.69491525e-01,  1.23493045e+00,\n",
       "         3.27402135e-01],\n",
       "       [-5.08480443e-01,  1.73258004e-01, -3.01391036e-01,\n",
       "        -1.28113879e-01],\n",
       "       [-2.70335756e-01,  6.66666667e-01,  1.15765070e+00,\n",
       "         4.41281139e-01],\n",
       "       [-4.25406715e-01,  9.79284369e-02,  1.47295209e+00,\n",
       "         0.00000000e+00],\n",
       "       [-2.76566286e-01,  9.37853107e-01,  7.92890263e-01,\n",
       "         5.40925267e-01],\n",
       "       [-1.06957425e-01, -6.77966102e-01, -5.08500773e-01,\n",
       "        -2.41992883e-01],\n",
       "       [-8.38698512e-01, -8.06026365e-01,  2.24111283e-01,\n",
       "        -7.97153025e-01],\n",
       "       [ 4.70404984e-01,  3.99246704e-01,  1.02782071e+00,\n",
       "         9.25266904e-01],\n",
       "       [ 7.00242298e-01,  5.12241055e-01,  1.43894900e+00,\n",
       "         1.32384342e+00],\n",
       "       [-2.93181031e-01, -3.35216573e-01, -4.59041731e-01,\n",
       "        -1.99288256e-01],\n",
       "       [ 9.38040845e-02,  3.27683616e-01,  8.39258114e-01,\n",
       "         5.69395018e-01],\n",
       "       [ 3.31256490e-01, -7.30696798e-01, -6.13601236e-01,\n",
       "        -1.70818505e-01],\n",
       "       [ 2.43336795e-01, -7.15630885e-02, -1.15919629e-01,\n",
       "         3.70106762e-01],\n",
       "       [ 9.68847352e-01,  7.30696798e-01,  7.86707883e-01,\n",
       "         1.77935943e+00],\n",
       "       [-1.00726895e-01,  7.08097928e-01,  6.22874807e-01,\n",
       "         6.12099644e-01],\n",
       "       [ 5.02942195e-01, -7.00564972e-01,  7.43431221e-01,\n",
       "        -1.70818505e-01],\n",
       "       [ 1.01523018e+00,  5.04708098e-01,  2.32302937e+00,\n",
       "         1.55160142e+00],\n",
       "       [ 9.03080651e-01, -4.82109228e-01, -1.34466770e-01,\n",
       "         2.70462633e-01],\n",
       "       [ 2.64105227e-01, -2.14689266e-01, -2.42658423e-01,\n",
       "         2.56227758e-01],\n",
       "       [ 6.12322603e-01,  4.29378531e-01, -6.32148377e-01,\n",
       "         1.11032028e+00],\n",
       "       [-8.20353063e-02,  8.85122411e-01,  1.02782071e+00,\n",
       "         8.96797153e-01],\n",
       "       [-8.63620630e-01, -4.48210923e-01,  1.22102009e-01,\n",
       "        -8.11387900e-01],\n",
       "       [-4.10868813e-01, -8.51224105e-01, -7.88253478e-02,\n",
       "        -5.97864769e-01],\n",
       "       [-9.46002077e-01, -8.47457627e-01, -4.63678516e-03,\n",
       "        -1.08185053e+00],\n",
       "       [ 7.31394946e-01,  1.50659134e-01, -6.25965997e-01,\n",
       "         9.82206406e-01],\n",
       "       [ 5.26479751e-01, -5.53672316e-01,  9.50540958e-01,\n",
       "         7.11743772e-02],\n",
       "       [ 6.36552440e-01,  5.68738230e-01, -7.88253478e-02,\n",
       "         1.26690391e+00],\n",
       "       [ 1.79646937e-01, -2.82485876e-01, -7.21792890e-01,\n",
       "         1.70818505e-01],\n",
       "       [ 4.14330218e-01, -8.66290019e-02, -4.65224111e-01,\n",
       "         4.27046263e-01],\n",
       "       [-4.95327103e-01,  9.00188324e-01,  2.70479134e-01,\n",
       "         2.41992883e-01],\n",
       "       [-5.16787816e-01,  4.55743879e-01,  8.33075734e-01,\n",
       "        -4.27046263e-02],\n",
       "       [-7.30356525e-02, -3.23917137e-01, -4.63678516e-03,\n",
       "        -9.96441281e-02],\n",
       "       [-5.07788162e-01, -8.32391714e-01, -3.38485317e-01,\n",
       "        -4.98220641e-01],\n",
       "       [-1.66493596e-01,  5.27306968e-01,  1.65224111e+00,\n",
       "         4.27046263e-01],\n",
       "       [-9.02388370e-01, -2.59887006e-01, -1.06646059e-01,\n",
       "        -8.96797153e-01],\n",
       "       [-5.84977501e-02,  1.46892655e-01,  6.32148377e-01,\n",
       "         3.70106762e-01],\n",
       "       [-9.06542056e-01, -4.51977401e-02,  7.61978362e-01,\n",
       "        -8.39857651e-01],\n",
       "       [ 5.14018692e-01, -7.72128060e-01, -3.13755796e-01,\n",
       "        -1.85053381e-01],\n",
       "       [-1.84492904e-01,  4.40677966e-01, -4.12673879e-01,\n",
       "         3.27402135e-01],\n",
       "       [ 5.52094150e-01,  3.54048964e-01,  1.49768161e+00,\n",
       "         9.67971530e-01],\n",
       "       [-4.33021807e-01, -4.18079096e-01,  4.63678516e-03,\n",
       "        -3.27402135e-01],\n",
       "       [-9.82692973e-01,  6.02636535e-01,  7.68160742e-01,\n",
       "        -8.96797153e-01],\n",
       "       [-4.81481481e-01, -8.62523540e-01, -5.11591963e-01,\n",
       "        -5.83629893e-01],\n",
       "       [ 4.88404292e-01,  9.83050847e-01, -6.97063369e-01,\n",
       "         1.67971530e+00],\n",
       "       [-6.24091381e-01, -4.10546139e-01,  5.36321484e-01,\n",
       "        -4.55516014e-01],\n",
       "       [-1.03184493e+00,  6.29001883e-01, -5.27047913e-01,\n",
       "        -1.60854093e+00],\n",
       "       [ 7.99238491e-01, -7.53295669e-01,  5.33230294e-01,\n",
       "        -2.84697509e-02],\n",
       "       [-9.78539287e-01,  1.61958569e-01, -7.31066461e-01,\n",
       "        -1.02491103e+00],\n",
       "       [ 4.84942887e-01,  3.99246704e-01,  5.98145286e-01,\n",
       "         9.53736655e-01],\n",
       "       [-7.81239183e-01,  5.91337100e-01,  1.23183926e+00,\n",
       "        -2.98932384e-01],\n",
       "       [-7.02319142e-01,  9.07721281e-01, -5.33230294e-01,\n",
       "        -1.85053381e-01],\n",
       "       [-8.59466944e-01,  6.06403013e-01, -5.08500773e-01,\n",
       "        -4.83985765e-01],\n",
       "       [ 8.58082381e-01,  2.25988701e-01,  1.04945904e+00,\n",
       "         1.12455516e+00],\n",
       "       [-7.39010038e-01,  1.12994350e-01, -1.62287481e-01,\n",
       "        -4.69750890e-01],\n",
       "       [ 2.43336795e-01,  7.90960452e-01, -7.43431221e-01,\n",
       "         1.11032028e+00],\n",
       "       [-5.28556594e-01, -2.22222222e-01, -3.97217929e-01,\n",
       "        -2.84697509e-01],\n",
       "       [ 3.04257529e-01,  4.70809793e-01,  1.54095827e+00,\n",
       "         8.96797153e-01],\n",
       "       [ 4.89788854e-01,  3.87947269e-01,  3.75579598e-01,\n",
       "         1.02491103e+00],\n",
       "       [-3.12564901e-01, -6.47834275e-01,  2.67387944e-01,\n",
       "        -3.55871886e-01],\n",
       "       [-3.70716511e-01, -3.05084746e-01,  4.06491499e-01,\n",
       "        -2.13523132e-01],\n",
       "       [-6.54205607e-02, -7.90960452e-01, -5.17774343e-01,\n",
       "        -3.70106762e-01],\n",
       "       [ 6.25475943e-01, -5.87570621e-01, -5.27047913e-01,\n",
       "         4.27046263e-02],\n",
       "       [ 6.46936656e-01,  9.83050847e-01,  5.73415765e-01,\n",
       "         1.77935943e+00],\n",
       "       [-7.73624091e-01,  6.55367232e-01, -4.28129830e-01,\n",
       "        -2.84697509e-01],\n",
       "       [-7.27241260e-01,  1.09227872e-01, -1.59196291e-01,\n",
       "        -3.98576512e-01],\n",
       "       [ 9.06542056e-01, -3.38983051e-01,  3.47758887e-01,\n",
       "         4.55516014e-01],\n",
       "       [-1.99030807e-01, -5.46139360e-01,  7.09428130e-01,\n",
       "        -1.85053381e-01],\n",
       "       [ 3.31256490e-01,  1.50659134e-02, -3.57032457e-01,\n",
       "         5.26690391e-01],\n",
       "       [ 1.49186570e-01,  6.32768362e-01,  3.69397218e-01,\n",
       "         8.68327402e-01],\n",
       "       [ 2.63412946e-01, -6.77966102e-02, -5.02318393e-01,\n",
       "         3.84341637e-01],\n",
       "       [-1.00830737e+00, -4.25612053e-01, -6.19783617e-01,\n",
       "        -1.38078292e+00],\n",
       "       [-3.86638975e-01,  7.75894539e-01,  7.65069552e-01,\n",
       "         3.41637011e-01],\n",
       "       [ 3.46140533e-04, -8.13559322e-01, -4.48222566e-02,\n",
       "        -3.98576512e-01],\n",
       "       [-9.55694012e-01,  5.27306968e-01,  6.01236476e-01,\n",
       "        -7.97153025e-01],\n",
       "       [-1.24956732e-01, -1.69491525e-01,  2.73570325e-01,\n",
       "         0.00000000e+00],\n",
       "       [ 1.57493943e-01, -1.80790960e-01,  1.53013910e-01,\n",
       "         2.13523132e-01],\n",
       "       [-4.43406023e-01,  4.85875706e-01,  7.27975270e-01,\n",
       "         5.69395018e-02],\n",
       "       [ 2.67566632e-01, -1.80790960e-01, -4.63678516e-03,\n",
       "         2.84697509e-01],\n",
       "       [ 9.51886466e-02,  5.23540490e-01, -5.67233385e-01,\n",
       "         7.25978648e-01],\n",
       "       [-2.25337487e-01, -3.08851224e-01, -6.29057187e-01,\n",
       "        -1.42348754e-01],\n",
       "       [ 5.86708204e-01, -7.34463277e-01,  1.82534776e+00,\n",
       "        -1.42348754e-01],\n",
       "       [-9.12772586e-01,  5.53672316e-01, -1.28284389e-01,\n",
       "        -6.97508897e-01],\n",
       "       [ 3.94946348e-01, -6.66666667e-01, -1.96290572e-01,\n",
       "        -9.96441281e-02],\n",
       "       [ 4.54482520e-01,  2.63653484e-02,  9.84544049e-01,\n",
       "         5.97864769e-01],\n",
       "       [ 9.31464174e-01, -4.63276836e-01, -5.98145286e-01,\n",
       "         2.98932384e-01],\n",
       "       [-6.90550363e-01, -4.25612053e-01, -2.27202473e-01,\n",
       "        -6.40569395e-01],\n",
       "       [ 1.02111457e-01, -7.53295669e-02,  6.69242658e-01,\n",
       "         2.27758007e-01],\n",
       "       [-9.01003808e-01, -1.05461394e-01, -2.70479134e-01,\n",
       "        -7.54448399e-01],\n",
       "       [ 1.29110419e-01, -5.95103578e-01, -4.00309119e-01,\n",
       "        -1.70818505e-01],\n",
       "       [ 5.02942195e-01, -7.34463277e-01, -3.91035549e-01,\n",
       "        -1.99288256e-01],\n",
       "       [ 8.80235376e-01,  9.79284369e-01,  4.96136012e-01,\n",
       "         2.00711744e+00],\n",
       "       [ 6.82935272e-01,  2.74952919e-01, -1.68469861e-01,\n",
       "         1.03914591e+00],\n",
       "       [ 1.41571478e-01, -5.68738230e-01,  2.92117465e-01,\n",
       "        -1.70818505e-01],\n",
       "       [ 8.78850813e-01, -7.75894539e-01, -6.33693972e-02,\n",
       "        -1.56583630e-01],\n",
       "       [ 1.09726549e-01, -4.85875706e-01, -2.51931994e-01,\n",
       "        -4.27046263e-02],\n",
       "       [ 4.74212530e-02, -7.64595104e-01, -5.39412674e-01,\n",
       "        -3.41637011e-01],\n",
       "       [ 4.75943233e-01, -6.59133710e-01,  5.10046368e-02,\n",
       "        -9.96441281e-02],\n",
       "       [-6.47628937e-01, -6.47834275e-01,  1.22102009e-01,\n",
       "        -5.97864769e-01],\n",
       "       [ 9.54309450e-01,  7.57062147e-01,  1.42349304e+00,\n",
       "         1.89323843e+00],\n",
       "       [ 7.20318449e-01, -6.02636535e-02,  1.31375580e-01,\n",
       "         6.69039146e-01],\n",
       "       [ 3.82485289e-01,  8.36158192e-01, -1.90108192e-01,\n",
       "         1.38078292e+00],\n",
       "       [-7.09588093e-02, -7.83427495e-01,  2.62751159e-02,\n",
       "        -3.70106762e-01],\n",
       "       [ 2.86258221e-01,  2.18455744e-01, -2.33384853e-01,\n",
       "         6.26334520e-01],\n",
       "       [ 9.43232953e-01, -3.38983051e-01, -6.81607419e-01,\n",
       "         4.27046263e-01],\n",
       "       [-9.07234337e-01, -4.06779661e-01, -7.26429675e-02,\n",
       "        -8.82562278e-01],\n",
       "       [-7.63239875e-01,  6.85499058e-01, -6.16692427e-01,\n",
       "        -2.98932384e-01],\n",
       "       [-5.14018692e-01, -4.55743879e-01, -6.10510046e-01,\n",
       "        -4.27046263e-01],\n",
       "       [-9.17618553e-01, -7.08097928e-01,  1.80834621e-01,\n",
       "        -9.96441281e-01],\n",
       "       [ 1.18033922e-01,  7.19397363e-01, -6.84698609e-01,\n",
       "         9.53736655e-01],\n",
       "       [-3.46140533e-04,  4.78342750e-01, -6.10510046e-01,\n",
       "         6.26334520e-01],\n",
       "       [-7.72239529e-01, -7.23163842e-01, -3.69397218e-01,\n",
       "        -7.54448399e-01],\n",
       "       [-3.84562132e-01, -6.77966102e-01, -5.45595054e-01,\n",
       "        -4.55516014e-01],\n",
       "       [ 1.88646591e-01, -5.12241055e-01, -5.98145286e-01,\n",
       "        -1.42348754e-02],\n",
       "       [ 9.26618207e-01,  7.19397363e-01,  1.25038640e+00,\n",
       "         1.79359431e+00],\n",
       "       [ 5.70093458e-01, -5.38606403e-01, -5.27047913e-01,\n",
       "         7.11743772e-02]])"
      ]
     },
     "execution_count": 72,
     "metadata": {},
     "output_type": "execute_result"
    }
   ],
   "source": [
    "rb2=rb.fit_transform(df)\n",
    "rb2"
   ]
  },
  {
   "cell_type": "code",
   "execution_count": 75,
   "metadata": {
    "collapsed": true
   },
   "outputs": [
    {
     "data": {
      "text/html": [
       "<div>\n",
       "<style scoped>\n",
       "    .dataframe tbody tr th:only-of-type {\n",
       "        vertical-align: middle;\n",
       "    }\n",
       "\n",
       "    .dataframe tbody tr th {\n",
       "        vertical-align: top;\n",
       "    }\n",
       "\n",
       "    .dataframe thead th {\n",
       "        text-align: right;\n",
       "    }\n",
       "</style>\n",
       "<table border=\"1\" class=\"dataframe\">\n",
       "  <thead>\n",
       "    <tr style=\"text-align: right;\">\n",
       "      <th></th>\n",
       "      <th>TV</th>\n",
       "      <th>radio</th>\n",
       "      <th>newspaper</th>\n",
       "      <th>sales</th>\n",
       "    </tr>\n",
       "  </thead>\n",
       "  <tbody>\n",
       "    <tr>\n",
       "      <th>0</th>\n",
       "      <td>0.556248</td>\n",
       "      <td>0.561205</td>\n",
       "      <td>1.343122</td>\n",
       "      <td>1.309609</td>\n",
       "    </tr>\n",
       "    <tr>\n",
       "      <th>1</th>\n",
       "      <td>-0.728626</td>\n",
       "      <td>0.617702</td>\n",
       "      <td>0.598145</td>\n",
       "      <td>-0.355872</td>\n",
       "    </tr>\n",
       "    <tr>\n",
       "      <th>2</th>\n",
       "      <td>-0.917619</td>\n",
       "      <td>0.866290</td>\n",
       "      <td>1.346213</td>\n",
       "      <td>-0.512456</td>\n",
       "    </tr>\n",
       "    <tr>\n",
       "      <th>3</th>\n",
       "      <td>0.012115</td>\n",
       "      <td>0.693032</td>\n",
       "      <td>1.012365</td>\n",
       "      <td>0.797153</td>\n",
       "    </tr>\n",
       "    <tr>\n",
       "      <th>4</th>\n",
       "      <td>0.214953</td>\n",
       "      <td>-0.455744</td>\n",
       "      <td>1.009274</td>\n",
       "      <td>0.000000</td>\n",
       "    </tr>\n",
       "  </tbody>\n",
       "</table>\n",
       "</div>"
      ],
      "text/plain": [
       "         TV     radio  newspaper     sales\n",
       "0  0.556248  0.561205   1.343122  1.309609\n",
       "1 -0.728626  0.617702   0.598145 -0.355872\n",
       "2 -0.917619  0.866290   1.346213 -0.512456\n",
       "3  0.012115  0.693032   1.012365  0.797153\n",
       "4  0.214953 -0.455744   1.009274  0.000000"
      ]
     },
     "execution_count": 75,
     "metadata": {},
     "output_type": "execute_result"
    }
   ],
   "source": [
    "rb2=pd.DataFrame(rb2,columns=df.columns)\n",
    "rb2.head()"
   ]
  },
  {
   "cell_type": "code",
   "execution_count": 76,
   "metadata": {
    "collapsed": true
   },
   "outputs": [
    {
     "data": {
      "text/plain": [
       "<AxesSubplot:xlabel='TV', ylabel='Density'>"
      ]
     },
     "execution_count": 76,
     "metadata": {},
     "output_type": "execute_result"
    },
    {
     "data": {
      "image/png": "[encoded data removed]",
      "text/plain": [
       "<Figure size 648x360 with 2 Axes>"
      ]
     },
     "metadata": {
      "needs_background": "light"
     },
     "output_type": "display_data"
    }
   ],
   "source": [
    "fig, (ax1,ax2)=plt.subplots(ncols =2,figsize=(9,5))\n",
    "sns.kdeplot(df['TV'],ax=ax1)\n",
    "sns.kdeplot(df['radio'],ax=ax1)\n",
    "sns.kdeplot(df['newspaper'],ax=ax1)\n",
    "sns.kdeplot(df['sales'],ax=ax1)\n",
    "\n",
    "\n",
    "sns.kdeplot(rb2['TV'],ax=ax2)\n",
    "sns.kdeplot(rb2['radio'],ax=ax2)\n",
    "sns.kdeplot(rb2['newspaper'],ax=ax2)\n",
    "sns.kdeplot(rb2['sales'],ax=ax2)"
   ]
  },
  {
   "cell_type": "code",
   "execution_count": null,
   "metadata": {},
   "outputs": [],
   "source": []
  }
 ],
 "metadata": {
  "kernelspec": {
   "display_name": "Python 3",
   "language": "python",
   "name": "python3"
  },
  "language_info": {
   "codemirror_mode": {
    "name": "ipython",
    "version": 3
   },
   "file_extension": ".py",
   "mimetype": "text/x-python",
   "name": "python",
   "nbconvert_exporter": "python",
   "pygments_lexer": "ipython3",
   "version": "3.6.8"
  }
 },
 "nbformat": 4,
 "nbformat_minor": 4
}
